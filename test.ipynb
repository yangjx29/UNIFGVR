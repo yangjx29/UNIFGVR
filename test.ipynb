{
 "cells": [
  {
   "cell_type": "code",
   "execution_count": null,
   "id": "e3f23ace",
   "metadata": {},
   "outputs": [
    {
     "name": "stderr",
     "output_type": "stream",
     "text": [
      "/data/yjx/cache/conda/envs/finer/lib/python3.9/site-packages/tqdm/auto.py:21: TqdmWarning: IProgress not found. Please update jupyter and ipywidgets. See https://ipywidgets.readthedocs.io/en/stable/user_install.html\n",
      "  from .autonotebook import tqdm as notebook_tqdm\n",
      "/data/yjx/cache/conda/envs/finer/lib/python3.9/site-packages/torchvision/io/image.py:13: UserWarning: Failed to load image Python extension: '/data/yjx/cache/conda/envs/finer/lib/python3.9/site-packages/torchvision/image.so: undefined symbol: _ZN3c1017RegisterOperatorsD1Ev'If you don't plan on using image functionality from `torchvision.io`, you can ignore this warning. Otherwise, there might be something wrong with your environment. Did you have `libjpeg` or `libpng` installed before building `torchvision` from source?\n",
      "  warn(\n",
      "`torch_dtype` is deprecated! Use `dtype` instead!\n",
      "Loading checkpoint shards: 100%|██████████| 5/5 [00:04<00:00,  1.20it/s]\n"
     ]
    }
   ],
   "source": []
  },
  {
   "cell_type": "code",
   "execution_count": null,
   "id": "00036106",
   "metadata": {},
   "outputs": [
    {
     "name": "stderr",
     "output_type": "stream",
     "text": [
      "/data/yjx/cache/conda/envs/finer/lib/python3.9/site-packages/tqdm/auto.py:21: TqdmWarning: IProgress not found. Please update jupyter and ipywidgets. See https://ipywidgets.readthedocs.io/en/stable/user_install.html\n",
      "  from .autonotebook import tqdm as notebook_tqdm\n",
      "/data/yjx/cache/conda/envs/finer/lib/python3.9/site-packages/torchvision/io/image.py:13: UserWarning: Failed to load image Python extension: '/data/yjx/cache/conda/envs/finer/lib/python3.9/site-packages/torchvision/image.so: undefined symbol: _ZN3c1017RegisterOperatorsD1Ev'If you don't plan on using image functionality from `torchvision.io`, you can ignore this warning. Otherwise, there might be something wrong with your environment. Did you have `libjpeg` or `libpng` installed before building `torchvision` from source?\n",
      "  warn(\n",
      "`torch_dtype` is deprecated! Use `dtype` instead!\n",
      "Loading checkpoint shards: 100%|██████████| 5/5 [00:22<00:00,  4.43s/it]\n",
      "The image processor of type `Qwen2VLImageProcessor` is now loaded as a fast processor by default, even if the model checkpoint was saved with a slow processor. This is a breaking change and may produce slightly different outputs. To continue using the slow processor, instantiate this class with `use_fast=False`. Note that this behavior will be extended to all models in a future release.\n"
     ]
    },
    {
     "name": "stdout",
     "output_type": "stream",
     "text": [
      "att_shape:[13, 18]\n"
     ]
    },
    {
     "data": {
      "image/png": "[encoded data removed]",
      "text/plain": [
       "<Figure size 640x480 with 1 Axes>"
      ]
     },
     "metadata": {},
     "output_type": "display_data"
    },
    {
     "ename": "",
     "evalue": "",
     "output_type": "error",
     "traceback": [
      "\u001b[1;31mThe Kernel crashed while executing code in the current cell or a previous cell. \n",
      "\u001b[1;31mPlease review the code in the cell(s) to identify a possible cause of the failure. \n",
      "\u001b[1;31mClick <a href='https://aka.ms/vscodeJupyterKernelCrash'>here</a> for more info. \n",
      "\u001b[1;31mView Jupyter <a href='command:jupyter.viewOutput'>log</a> for further details."
     ]
    }
   ],
   "source": [
    "import matplotlib\n",
    "# matplotlib.use('TkAgg')  # 设置交互式后端以显示图片\n",
    "import matplotlib.pyplot as plt\n",
    "from utils import *\n",
    "\n",
    "from PIL import Image, ImageDraw\n",
    "from transformers import Qwen2_5_VLForConditionalGeneration, AutoProcessor\n",
    "import torch\n",
    "import matplotlib.pyplot as plt\n",
    "from utils.util import *\n",
    "from agents.qwen2_5_methods import rel_attention_qwen2_5\n",
    "\n",
    "model_name = 'qwen2_5'\n",
    "method_name = 'rel_att'\n",
    "image_path = '/data/yjx/MLLM/UniFGVR/datasets/dogs_120/images_discovery_all_1/032.Kerry_Blue_Terrier/032.Kerry_Blue_Terrier_n02093859_393.jpg'\n",
    "question = \"Describe the most significant features that can identify the type of dog in the image, and ultimately tell me what kind of dog it is.\"\n",
    "short_question = \"Describe the most significant features that can identify the type of dog in the image, and ultimately tell me what kind of dog it is.\"\n",
    "device = 'cuda'\n",
    "model_path = '/home/Dataset/Models/Qwen/Qwen2.5-VL-7B-Instruct'\n",
    "\n",
    "\n",
    "model = Qwen2_5_VLForConditionalGeneration.from_pretrained(\n",
    "                model_path,\n",
    "                device_map=\"auto\",\n",
    "                attn_implementation=\"eager\",\n",
    "                torch_dtype=torch.float32,\n",
    "            ).eval()\n",
    "\n",
    "processor = AutoProcessor.from_pretrained(\n",
    "    model_path,\n",
    "    # trust_remote_code=True,\n",
    "    # padding_side='left',\n",
    "    # use_fast=True,\n",
    ")\n",
    "\n",
    "\n",
    "# Visualize the bounding box\n",
    "image = Image.open(image_path).convert(\"RGB\")\n",
    "\n",
    "\n",
    "# question = \"What is the pose of the woman with yellow backpack?\\n(A) walking\\n(B) running\\n(C) squatting\\n(D) standing\\nAnswer with the option's letter from the given choices directly.\"\n",
    "# short_question = \"What is the pose of the woman with yellow backpack?\\n(A) walking\\n(B) running\\n(C) squatting\\n(D) standing\\nAnswer with the option's letter from the given choices directly.\"\n",
    "question = \"Describe the most significant features that can identify the type of dog in the image, and ultimately tell me what kind of dog it is.\"\n",
    "short_question = \"Describe the most significant features that can identify the type of dog in the image, and ultimately tell me what kind of dog it is.\"\n",
    "general_question = 'Write a general description of the image.'\n",
    "prompt = f\"<image>\\nUSER: {question} Answer the question using a single word or phrase.\\nASSISTANT:\"\n",
    "general_prompt = f\"<image>\\nUSER: {general_question} Answer the question using a single word or phrase.\\nASSISTANT:\"\n",
    "# image_path = 'images/demo3.png'\n",
    "# image = Image.open(image_path).convert(\"RGB\")\n",
    "# att_map = high_res(rel_attention_qwen2_5, image, prompt, general_prompt, model, processor)\n",
    "att_map = rel_attention_qwen2_5(image, prompt, general_prompt, model, processor)\n",
    "# important_tokens_info = get_important_image_tokens(att_map, inputs, model, threshold=1)\n",
    "# print(f\"图像token位置范围: {important_tokens_info['positions']}\")\n",
    "# print(f\"重要stoken数量: {len(important_tokens_info['important_indices'])}\")\n",
    "# print(f\"最高注意力权重: {important_tokens_info['important_weights'].max().item():.4f}\")\n",
    "# print(f\"平均注意力权重: {important_tokens_info['important_weights'].mean().item():.4f}\")\n",
    "# print(f'att_map:{att_map}')\n",
    "# print(f'att_map shape:{att_map.shape}')\n",
    "plt.imshow(att_map, interpolation='none')\n",
    "plt.axis('off')\n",
    "plt.show()\n",
    "torch.cuda.empty_cache()\n",
    "\n",
    "\n",
    "\n",
    "\n",
    "\n",
    "\n",
    "\n",
    "\n",
    "\n",
    "\n"
   ]
  }
 ],
 "metadata": {
  "kernelspec": {
   "display_name": "finer",
   "language": "python",
   "name": "python3"
  },
  "language_info": {
   "codemirror_mode": {
    "name": "ipython",
    "version": 3
   },
   "file_extension": ".py",
   "mimetype": "text/x-python",
   "name": "python",
   "nbconvert_exporter": "python",
   "pygments_lexer": "ipython3",
   "version": "3.9.16"
  }
 },
 "nbformat": 4,
 "nbformat_minor": 5
}
